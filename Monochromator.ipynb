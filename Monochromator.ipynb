{
 "cells": [
  {
   "cell_type": "code",
   "execution_count": 2,
   "metadata": {},
   "outputs": [],
   "source": [
    "#Appel de la dll, importation, et ouverture de la communication\n",
    "from ctypes import cdll, c_char_p, c_wchar_p, create_string_buffer,addressof,c_byte\n",
    "import time\n",
    "\n",
    "wdll=cdll.LoadLibrary(\"ODevice.dll\")\n",
    "\n",
    "wdll.odev_open()\n",
    "\n",
    "#Information\n",
    "i=b\"INFO?\"\n",
    "def statu(a):\n",
    "    a_test = create_string_buffer(256)\n",
    "    wdll.odev_ask(a,a_test)\n",
    "    print(a_test.value)\n",
    "\n",
    "#Ouverture/Fermeture du shutter\n",
    "o=b\"SHUTTER O\"\n",
    "c=b\"SHUTTER C\"\n",
    "def shutter(a):\n",
    "    b_test = create_string_buffer(256)\n",
    "    wdll.odev_ask(a,b_test)\n",
    "    wdll.odev_write(b'SHUTTER?\\n')\n",
    "    wdll.odev_read(b_test)\n",
    "    print(b_test.value)\n",
    "\n",
    "#Choix du réseau\n",
    "def grat(i):\n",
    "    c_test = create_string_buffer(256)\n",
    "    wdll.odev_write(b'GRAT %.1f\\n'%i)\n",
    "    wdll.odev_write(b'GRAT?\\n')\n",
    "    wdll.odev_read(c_test)\n",
    "    print(c_test.value)\n",
    "\n",
    "#Choix du port de sortie\n",
    "\"\"\"\n",
    "For Axial OUTPORT = 1\n",
    "For Lateral OUTPORT = 2\n",
    "\"\"\"\n",
    "def outport(i):\n",
    "    d_test = create_string_buffer(256)\n",
    "    wdll.odev_write(b'OUTPORT %.1f \\n'%i)\n",
    "    wdll.odev_write(b'OUTPORT?\\n')\n",
    "    wdll.odev_read(d_test)\n",
    "    print(d_test.value)\n",
    "\n",
    "#Envoyer une longueur d'onde\n",
    "def gowave(i):\n",
    "    e_test = create_string_buffer(256)\n",
    "    wdll.odev_write(b'GOWAVE %.1f\\n'%i)\n",
    "    wdll.odev_write(b'WAVE?\\n')\n",
    "    wdll.odev_read(e_test)\n",
    "    print(e_test.value)"
   ]
  },
  {
   "cell_type": "code",
   "execution_count": null,
   "metadata": {},
   "outputs": [],
   "source": []
  },
  {
   "cell_type": "code",
   "execution_count": null,
   "metadata": {},
   "outputs": [],
   "source": []
  }
 ],
 "metadata": {
  "kernelspec": {
   "display_name": "Python 3",
   "language": "python",
   "name": "python3"
  },
  "language_info": {
   "codemirror_mode": {
    "name": "ipython",
    "version": 3
   },
   "file_extension": ".py",
   "mimetype": "text/x-python",
   "name": "python",
   "nbconvert_exporter": "python",
   "pygments_lexer": "ipython3",
   "version": "3.6.5"
  }
 },
 "nbformat": 4,
 "nbformat_minor": 2
}
