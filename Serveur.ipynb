{
 "cells": [
  {
   "cell_type": "code",
   "execution_count": null,
   "metadata": {},
   "outputs": [],
   "source": [
    "# coding: utf-8\n",
    "import socket\n",
    "import mono"
   ]
  },
  {
   "cell_type": "code",
   "execution_count": null,
   "metadata": {},
   "outputs": [],
   "source": [
    "socket = socket.socket(socket.AF_INET, socket.SOCK_STREAM)\n",
    "socket.bind(('localhost', 10000))\n",
    "\n",
    "while True:\n",
    "        socket.listen(5)\n",
    "        client, address = socket.accept()\n",
    "        print(\"{} connected\".format( address ))\n",
    "        command = client.recv(255)\n",
    "        cmdStr = command.decode()\n",
    "        \n",
    "        try:\n",
    "            if cmdStr == 'status':\n",
    "                ret = mono.status()\n",
    "                msg = '0,%s'%ret\n",
    "            \n",
    "            elif 'gowave' in cmdStr :\n",
    "                a=float(cmdStr.split('gowave')[1])\n",
    "                ret = mono.gowave(a)\n",
    "                msg = '0,%s'%ret\n",
    "                \n",
    "            elif cmdStr == 'shutteropen':\n",
    "                ret = mono.shutterclose()\n",
    "                msg = '0,%s'%ret\n",
    "\n",
    "            elif cmdStr == 'shutteropen':\n",
    "                ret = mono.shutteropen()\n",
    "                msg = '0,%s'%ret\n",
    "\n",
    "            elif cmdStr == 'getshutter':\n",
    "                ret = mono.getshutter()\n",
    "                msg = '0,%s'%ret\n",
    "            \n",
    "            elif 'grating' in cmdStr :\n",
    "                a=int(cmdStr.split('grating')[1])\n",
    "                ret = mono.grat(a)\n",
    "                msg = '0,%s'%ret\n",
    "\n",
    "            elif cmdStr == 'getgrat':\n",
    "                ret = mono.getgrat()\n",
    "                msg = '0,%s'%ret\n",
    "            \n",
    "            elif 'outport' in cmdStr :\n",
    "                a=int(cmdStr.split('outport')[1])\n",
    "                ret = mono.outport(a) ,  \n",
    "                msg = '0,%s'%ret\n",
    "            \n",
    "            elif cmdStr == 'getport':\n",
    "                ret = mono.getoutport()\n",
    "                msg = '0,%s'%ret\n",
    "            \n",
    "            elif cmdStr == 'getwlength':\n",
    "                ret = mono.getwave()\n",
    "                msg = '0,%s'%ret\n",
    "                \n",
    "            else:\n",
    "                raise UserWarning('unknown command')\n",
    "                \n",
    "        except Exception as e:\n",
    "                msg = '1,%s'%str(e)\n",
    "        \n",
    "        \n",
    "        \n",
    "        client.send(msg.encode('utf-8'))\n",
    "            \n",
    "        #if response != \"\":\n",
    "        #        print(response)\n",
    "                \n",
    "\n",
    "print(\"Close\")\n",
    "client.close()\n",
    "stock.close()"
   ]
  },
  {
   "cell_type": "code",
   "execution_count": null,
   "metadata": {},
   "outputs": [
    {
     "name": "stdout",
     "output_type": "stream",
     "text": [
      "('127.0.0.1', 50974) connected\n"
     ]
    }
   ],
   "source": [
    "import socket\n",
    "import mono\n",
    "\n",
    "socket = socket.socket(socket.AF_INET, socket.SOCK_STREAM)\n",
    "socket.bind(('localhost', 10000))\n",
    "\n",
    "while True:\n",
    "        socket.listen(5)\n",
    "        client, address = socket.accept()\n",
    "        print(\"{} connected\".format( address ))\n",
    "        command = client.recv(255)\n",
    "        cmdStr = command.decode()\n",
    "        funcname = cmdStr.split(',')[0]\n",
    "        args =  cmdStr.split(',')[1:]\n",
    "        try:\n",
    "            func = getattr(mono, funcname)\n",
    "            ret = func(*args)\n",
    "            msg = '0,%s'%ret\n",
    "        except Exception as e:\n",
    "            msg = '1,%s'%str(e)\n",
    "\n",
    "        client.send(msg.encode('utf-8'))\n",
    "            \n",
    "        #if response != \"\":\n",
    "        #        print(response)\n",
    "                \n",
    "\n",
    "print(\"Close\")\n",
    "client.close()\n",
    "stock.close()"
   ]
  },
  {
   "cell_type": "code",
   "execution_count": null,
   "metadata": {},
   "outputs": [],
   "source": []
  }
 ],
 "metadata": {
  "kernelspec": {
   "display_name": "Python 3",
   "language": "python",
   "name": "python3"
  },
  "language_info": {
   "codemirror_mode": {
    "name": "ipython",
    "version": 3
   },
   "file_extension": ".py",
   "mimetype": "text/x-python",
   "name": "python",
   "nbconvert_exporter": "python",
   "pygments_lexer": "ipython3",
   "version": "3.6.5"
  }
 },
 "nbformat": 4,
 "nbformat_minor": 2
}
