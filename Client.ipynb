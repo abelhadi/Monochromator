{
 "cells": [
  {
   "cell_type": "code",
   "execution_count": 2,
   "metadata": {},
   "outputs": [],
   "source": [
    "# coding: utf-8\n",
    "\n",
    "import socket\n",
    "import time\n",
    "hote = \"localhost\"\n",
    "port = 10000\n",
    "\n",
    "cmdStr = b\"status\""
   ]
  },
  {
   "cell_type": "code",
   "execution_count": 3,
   "metadata": {},
   "outputs": [
    {
     "name": "stdout",
     "output_type": "stream",
     "text": [
      "Connection on 10000\n",
      "socket returned : b'1,Monochromator is offline'\n",
      "Close\n"
     ]
    }
   ],
   "source": [
    "socket = socket.socket(socket.AF_INET, socket.SOCK_STREAM)\n",
    "socket.connect((hote, port))\n",
    "print(\"Connection on {}\".format(port))\n",
    "\n",
    "socket.send(cmdStr)\n",
    "time.sleep(1)\n",
    "ret = socket.recv(1024)\n",
    "print ('socket returned : %s'%ret)\n",
    "print(\"Close\")\n",
    "socket.close()"
   ]
  },
  {
   "cell_type": "code",
   "execution_count": 10,
   "metadata": {},
   "outputs": [],
   "source": [
    "command = b\"gowave1000\""
   ]
  },
  {
   "cell_type": "code",
   "execution_count": 11,
   "metadata": {},
   "outputs": [],
   "source": [
    "cmdStr = command.decode()"
   ]
  },
  {
   "cell_type": "code",
   "execution_count": 16,
   "metadata": {},
   "outputs": [],
   "source": [
    " if 'gowave' in cmdStr :\n",
    "    a=int(cmdStr.split('gowave')[1])\n",
    "    #ret = mono.gowave()"
   ]
  },
  {
   "cell_type": "code",
   "execution_count": 17,
   "metadata": {},
   "outputs": [
    {
     "data": {
      "text/plain": [
       "1000"
      ]
     },
     "execution_count": 17,
     "metadata": {},
     "output_type": "execute_result"
    }
   ],
   "source": [
    "a"
   ]
  },
  {
   "cell_type": "code",
   "execution_count": null,
   "metadata": {},
   "outputs": [],
   "source": []
  }
 ],
 "metadata": {
  "kernelspec": {
   "display_name": "Python 3",
   "language": "python",
   "name": "python3"
  },
  "language_info": {
   "codemirror_mode": {
    "name": "ipython",
    "version": 3
   },
   "file_extension": ".py",
   "mimetype": "text/x-python",
   "name": "python",
   "nbconvert_exporter": "python",
   "pygments_lexer": "ipython3",
   "version": "3.6.5"
  }
 },
 "nbformat": 4,
 "nbformat_minor": 2
}
